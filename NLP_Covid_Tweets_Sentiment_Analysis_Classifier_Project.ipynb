{
  "nbformat": 4,
  "nbformat_minor": 0,
  "metadata": {
    "kernelspec": {
      "display_name": "Python 3",
      "language": "python",
      "name": "python3"
    },
    "language_info": {
      "codemirror_mode": {
        "name": "ipython",
        "version": 3
      },
      "file_extension": ".py",
      "mimetype": "text/x-python",
      "name": "python",
      "nbconvert_exporter": "python",
      "pygments_lexer": "ipython3",
      "version": "3.7.3"
    },
    "colab": {
      "name": "Covid Tweets Sentiment Analysis Classifier  Project.ipynb",
      "provenance": [],
      "collapsed_sections": [],
      "include_colab_link": true
    }
  },
  "cells": [
    {
      "cell_type": "markdown",
      "metadata": {
        "id": "view-in-github",
        "colab_type": "text"
      },
      "source": [
        "<a href=\"https://colab.research.google.com/github/11AJ/ML_projects_TGC/blob/main/NLP_Covid_Tweets_Sentiment_Analysis_Classifier_Project.ipynb\" target=\"_parent\"><img src=\"https://colab.research.google.com/assets/colab-badge.svg\" alt=\"Open In Colab\"/></a>"
      ]
    },
    {
      "cell_type": "markdown",
      "metadata": {
        "id": "CX4zQozj2C4p"
      },
      "source": [
        "### Covid Tweets Sentiment Classifier Project\n",
        "\n",
        "1) Read the dataset \"Corona_NLP_train.csv\" with encode=\"latin1\" like the code mentioned below <br>\n",
        "pd.read_csv('Corona_NLP_train.csv', encode='latin1')\n",
        "\n",
        "2) Remove/handle null values if required<br>\n",
        "3) Preprocess the Covid tweets based on following parameter<br>\n",
        "        \n",
        "       a) Remove Punctuations\n",
        "       b) Convert tweets to lower case.\n",
        "       c) Word tokenize the tweets\n",
        "       d) Remove stop words\n",
        "       e) Apply stemming or lemmatization\n",
        "       \n",
        "       \n",
        "4) Convert the 'Extremely Positive' and 'Extremely Negative' Sentiments to 'Positive' and 'Negative' sentiments respectively<br>\n",
        "5) Apply TfIdfVectorizer and convert the tweets to an array with max_features=5000<br>\n",
        "6) Split the dataset into train and test data with test size of 20%.<br>\n",
        "7) Create a Multinomial NaiveBayes Classifier and apply it on train dataset and use the model to predict it on test dataset.<br>\n",
        "8) Create a SVM Classifier with linear kernel and apply it on train dataset and use the model to predict it on test dataset.<br>\n",
        "9) Create a RandomForest Classifier and apply it on train dataset and use the model to predict it on test dataset.<br>\n",
        "10) Generate confusion matrix and classification_report for Q7, Q8 and Q9.<br>\n",
        "11) Apply CountVectorizer and convert the tweets to an array with max_features=5000<br>\n",
        "12) Repeat Q6 to Q10 with training data derived from array generated from Countvectorizer."
      ]
    },
    {
      "cell_type": "code",
      "metadata": {
        "id": "QdosnySL2C4r"
      },
      "source": [
        "import pandas as pd\n",
        "import numpy as np\n",
        "import matplotlib.pyplot as plt"
      ],
      "execution_count": 1,
      "outputs": []
    },
    {
      "cell_type": "code",
      "metadata": {
        "id": "sD3IE7Sm2TU5"
      },
      "source": [
        "import nltk\n",
        "from nltk import word_tokenize,sent_tokenize\n",
        "from nltk.corpus import stopwords\n",
        "import re"
      ],
      "execution_count": 2,
      "outputs": []
    },
    {
      "cell_type": "code",
      "metadata": {
        "id": "PtK8KmWe2c7Y"
      },
      "source": [
        "df=pd.read_csv('/content/Corona_NLP_train.csv',encoding='latin1')"
      ],
      "execution_count": 3,
      "outputs": []
    },
    {
      "cell_type": "code",
      "metadata": {
        "colab": {
          "base_uri": "https://localhost:8080/",
          "height": 202
        },
        "id": "lQ3oXk_i22R1",
        "outputId": "406a2834-d392-436d-8d3d-26e5c012c17f"
      },
      "source": [
        "df.head()"
      ],
      "execution_count": 4,
      "outputs": [
        {
          "output_type": "execute_result",
          "data": {
            "text/html": [
              "<div>\n",
              "<style scoped>\n",
              "    .dataframe tbody tr th:only-of-type {\n",
              "        vertical-align: middle;\n",
              "    }\n",
              "\n",
              "    .dataframe tbody tr th {\n",
              "        vertical-align: top;\n",
              "    }\n",
              "\n",
              "    .dataframe thead th {\n",
              "        text-align: right;\n",
              "    }\n",
              "</style>\n",
              "<table border=\"1\" class=\"dataframe\">\n",
              "  <thead>\n",
              "    <tr style=\"text-align: right;\">\n",
              "      <th></th>\n",
              "      <th>UserName</th>\n",
              "      <th>ScreenName</th>\n",
              "      <th>Location</th>\n",
              "      <th>TweetAt</th>\n",
              "      <th>OriginalTweet</th>\n",
              "      <th>Sentiment</th>\n",
              "    </tr>\n",
              "  </thead>\n",
              "  <tbody>\n",
              "    <tr>\n",
              "      <th>0</th>\n",
              "      <td>3799</td>\n",
              "      <td>48751</td>\n",
              "      <td>London</td>\n",
              "      <td>16-03-2020</td>\n",
              "      <td>@MeNyrbie @Phil_Gahan @Chrisitv https://t.co/i...</td>\n",
              "      <td>Neutral</td>\n",
              "    </tr>\n",
              "    <tr>\n",
              "      <th>1</th>\n",
              "      <td>3800</td>\n",
              "      <td>48752</td>\n",
              "      <td>UK</td>\n",
              "      <td>16-03-2020</td>\n",
              "      <td>advice Talk to your neighbours family to excha...</td>\n",
              "      <td>Positive</td>\n",
              "    </tr>\n",
              "    <tr>\n",
              "      <th>2</th>\n",
              "      <td>3801</td>\n",
              "      <td>48753</td>\n",
              "      <td>Vagabonds</td>\n",
              "      <td>16-03-2020</td>\n",
              "      <td>Coronavirus Australia: Woolworths to give elde...</td>\n",
              "      <td>Positive</td>\n",
              "    </tr>\n",
              "    <tr>\n",
              "      <th>3</th>\n",
              "      <td>3802</td>\n",
              "      <td>48754</td>\n",
              "      <td>NaN</td>\n",
              "      <td>16-03-2020</td>\n",
              "      <td>My food stock is not the only one which is emp...</td>\n",
              "      <td>Positive</td>\n",
              "    </tr>\n",
              "    <tr>\n",
              "      <th>4</th>\n",
              "      <td>3803</td>\n",
              "      <td>48755</td>\n",
              "      <td>NaN</td>\n",
              "      <td>16-03-2020</td>\n",
              "      <td>Me, ready to go at supermarket during the #COV...</td>\n",
              "      <td>Extremely Negative</td>\n",
              "    </tr>\n",
              "  </tbody>\n",
              "</table>\n",
              "</div>"
            ],
            "text/plain": [
              "   UserName  ...           Sentiment\n",
              "0      3799  ...             Neutral\n",
              "1      3800  ...            Positive\n",
              "2      3801  ...            Positive\n",
              "3      3802  ...            Positive\n",
              "4      3803  ...  Extremely Negative\n",
              "\n",
              "[5 rows x 6 columns]"
            ]
          },
          "metadata": {},
          "execution_count": 4
        }
      ]
    },
    {
      "cell_type": "code",
      "metadata": {
        "colab": {
          "base_uri": "https://localhost:8080/"
        },
        "id": "kgx2kZlC3I27",
        "outputId": "d3542407-62d7-4ddb-b7a0-b6a36ffb275b"
      },
      "source": [
        "df.isnull().sum()"
      ],
      "execution_count": 5,
      "outputs": [
        {
          "output_type": "execute_result",
          "data": {
            "text/plain": [
              "UserName            0\n",
              "ScreenName          0\n",
              "Location         8590\n",
              "TweetAt             0\n",
              "OriginalTweet       0\n",
              "Sentiment           0\n",
              "dtype: int64"
            ]
          },
          "metadata": {},
          "execution_count": 5
        }
      ]
    },
    {
      "cell_type": "code",
      "metadata": {
        "colab": {
          "base_uri": "https://localhost:8080/"
        },
        "id": "85VNWn973OmE",
        "outputId": "ac66f4bc-505d-475e-de16-3c08d00d7b2d"
      },
      "source": [
        "df['Location'].shape"
      ],
      "execution_count": 6,
      "outputs": [
        {
          "output_type": "execute_result",
          "data": {
            "text/plain": [
              "(41157,)"
            ]
          },
          "metadata": {},
          "execution_count": 6
        }
      ]
    },
    {
      "cell_type": "code",
      "metadata": {
        "id": "dS7i1LCC3S-y"
      },
      "source": [
        "df['Location'].fillna('London',inplace=True)\n",
        "df['Sentiment'].fillna(0,inplace=True)"
      ],
      "execution_count": 7,
      "outputs": []
    },
    {
      "cell_type": "code",
      "metadata": {
        "colab": {
          "base_uri": "https://localhost:8080/"
        },
        "id": "yY-qS3UCLcHc",
        "outputId": "b3935f1a-b51a-4cea-938f-61573b5d1f88"
      },
      "source": [
        "df.isnull().sum()"
      ],
      "execution_count": 8,
      "outputs": [
        {
          "output_type": "execute_result",
          "data": {
            "text/plain": [
              "UserName         0\n",
              "ScreenName       0\n",
              "Location         0\n",
              "TweetAt          0\n",
              "OriginalTweet    0\n",
              "Sentiment        0\n",
              "dtype: int64"
            ]
          },
          "metadata": {},
          "execution_count": 8
        }
      ]
    },
    {
      "cell_type": "code",
      "metadata": {
        "colab": {
          "base_uri": "https://localhost:8080/",
          "height": 202
        },
        "id": "uwR7Fv0P4ADB",
        "outputId": "b88ecc7f-174b-4b15-eafe-63682b5b0a56"
      },
      "source": [
        "df.head()"
      ],
      "execution_count": 9,
      "outputs": [
        {
          "output_type": "execute_result",
          "data": {
            "text/html": [
              "<div>\n",
              "<style scoped>\n",
              "    .dataframe tbody tr th:only-of-type {\n",
              "        vertical-align: middle;\n",
              "    }\n",
              "\n",
              "    .dataframe tbody tr th {\n",
              "        vertical-align: top;\n",
              "    }\n",
              "\n",
              "    .dataframe thead th {\n",
              "        text-align: right;\n",
              "    }\n",
              "</style>\n",
              "<table border=\"1\" class=\"dataframe\">\n",
              "  <thead>\n",
              "    <tr style=\"text-align: right;\">\n",
              "      <th></th>\n",
              "      <th>UserName</th>\n",
              "      <th>ScreenName</th>\n",
              "      <th>Location</th>\n",
              "      <th>TweetAt</th>\n",
              "      <th>OriginalTweet</th>\n",
              "      <th>Sentiment</th>\n",
              "    </tr>\n",
              "  </thead>\n",
              "  <tbody>\n",
              "    <tr>\n",
              "      <th>0</th>\n",
              "      <td>3799</td>\n",
              "      <td>48751</td>\n",
              "      <td>London</td>\n",
              "      <td>16-03-2020</td>\n",
              "      <td>@MeNyrbie @Phil_Gahan @Chrisitv https://t.co/i...</td>\n",
              "      <td>Neutral</td>\n",
              "    </tr>\n",
              "    <tr>\n",
              "      <th>1</th>\n",
              "      <td>3800</td>\n",
              "      <td>48752</td>\n",
              "      <td>UK</td>\n",
              "      <td>16-03-2020</td>\n",
              "      <td>advice Talk to your neighbours family to excha...</td>\n",
              "      <td>Positive</td>\n",
              "    </tr>\n",
              "    <tr>\n",
              "      <th>2</th>\n",
              "      <td>3801</td>\n",
              "      <td>48753</td>\n",
              "      <td>Vagabonds</td>\n",
              "      <td>16-03-2020</td>\n",
              "      <td>Coronavirus Australia: Woolworths to give elde...</td>\n",
              "      <td>Positive</td>\n",
              "    </tr>\n",
              "    <tr>\n",
              "      <th>3</th>\n",
              "      <td>3802</td>\n",
              "      <td>48754</td>\n",
              "      <td>London</td>\n",
              "      <td>16-03-2020</td>\n",
              "      <td>My food stock is not the only one which is emp...</td>\n",
              "      <td>Positive</td>\n",
              "    </tr>\n",
              "    <tr>\n",
              "      <th>4</th>\n",
              "      <td>3803</td>\n",
              "      <td>48755</td>\n",
              "      <td>London</td>\n",
              "      <td>16-03-2020</td>\n",
              "      <td>Me, ready to go at supermarket during the #COV...</td>\n",
              "      <td>Extremely Negative</td>\n",
              "    </tr>\n",
              "  </tbody>\n",
              "</table>\n",
              "</div>"
            ],
            "text/plain": [
              "   UserName  ...           Sentiment\n",
              "0      3799  ...             Neutral\n",
              "1      3800  ...            Positive\n",
              "2      3801  ...            Positive\n",
              "3      3802  ...            Positive\n",
              "4      3803  ...  Extremely Negative\n",
              "\n",
              "[5 rows x 6 columns]"
            ]
          },
          "metadata": {},
          "execution_count": 9
        }
      ]
    },
    {
      "cell_type": "code",
      "metadata": {
        "colab": {
          "base_uri": "https://localhost:8080/"
        },
        "id": "QnwtnZgJ5bl8",
        "outputId": "77c54303-4480-4f66-ad30-685b5524f7e0"
      },
      "source": [
        "nltk.download('stopwords')\n",
        "nltk.download('punkt')\n",
        "nltk.download('wordnet')"
      ],
      "execution_count": 10,
      "outputs": [
        {
          "output_type": "stream",
          "name": "stdout",
          "text": [
            "[nltk_data] Downloading package stopwords to /root/nltk_data...\n",
            "[nltk_data]   Package stopwords is already up-to-date!\n",
            "[nltk_data] Downloading package punkt to /root/nltk_data...\n",
            "[nltk_data]   Package punkt is already up-to-date!\n",
            "[nltk_data] Downloading package wordnet to /root/nltk_data...\n",
            "[nltk_data]   Package wordnet is already up-to-date!\n"
          ]
        },
        {
          "output_type": "execute_result",
          "data": {
            "text/plain": [
              "True"
            ]
          },
          "metadata": {},
          "execution_count": 10
        }
      ]
    },
    {
      "cell_type": "code",
      "metadata": {
        "id": "Gd1jhXDY558j"
      },
      "source": [
        "sw=set(stopwords.words('english'))"
      ],
      "execution_count": 11,
      "outputs": []
    },
    {
      "cell_type": "code",
      "metadata": {
        "id": "UP5-KpnM5_oo"
      },
      "source": [
        "from nltk.stem import WordNetLemmatizer\n",
        "lm=WordNetLemmatizer()"
      ],
      "execution_count": 12,
      "outputs": []
    },
    {
      "cell_type": "code",
      "metadata": {
        "id": "0aK3DQdq4XYE"
      },
      "source": [
        "filtered_text=[]\n",
        "for i in df['OriginalTweet']:\n",
        "  st=re.sub('[^a-zA-Z0-9]',' ',i)\n",
        "  st=st.lower()\n",
        "  st=word_tokenize(st)\n",
        "  st=[i for i in st if i not in sw]\n",
        "  st=[lm.lemmatize(i) for i in st]\n",
        "  st=' '.join(st)\n",
        "  filtered_text.append(st)"
      ],
      "execution_count": 13,
      "outputs": []
    },
    {
      "cell_type": "code",
      "metadata": {
        "colab": {
          "base_uri": "https://localhost:8080/"
        },
        "id": "k2gk-D1S48zE",
        "outputId": "f026db5d-2518-4f78-f7b8-5a46153d5eae"
      },
      "source": [
        "print(len(filtered_text))"
      ],
      "execution_count": 14,
      "outputs": [
        {
          "output_type": "stream",
          "name": "stdout",
          "text": [
            "41157\n"
          ]
        }
      ]
    },
    {
      "cell_type": "code",
      "metadata": {
        "colab": {
          "base_uri": "https://localhost:8080/"
        },
        "id": "OuDb-sOf7O25",
        "outputId": "b3d0b0f2-fe6e-4cc9-eee3-64ecc56744db"
      },
      "source": [
        "df['Sentiment'].value_counts()"
      ],
      "execution_count": 15,
      "outputs": [
        {
          "output_type": "execute_result",
          "data": {
            "text/plain": [
              "Positive              11422\n",
              "Negative               9917\n",
              "Neutral                7713\n",
              "Extremely Positive     6624\n",
              "Extremely Negative     5481\n",
              "Name: Sentiment, dtype: int64"
            ]
          },
          "metadata": {},
          "execution_count": 15
        }
      ]
    },
    {
      "cell_type": "code",
      "metadata": {
        "id": "xxjMIDvG6xhx"
      },
      "source": [
        "df['Sentiment']=df['Sentiment'].replace({'Extremely Positive':'Positive','Extremely Negative':'Negative'})"
      ],
      "execution_count": 16,
      "outputs": []
    },
    {
      "cell_type": "code",
      "metadata": {
        "colab": {
          "base_uri": "https://localhost:8080/"
        },
        "id": "jetcGNW-7cEV",
        "outputId": "a9e930cc-05ed-4442-8efd-635efede327b"
      },
      "source": [
        "df['Sentiment'].value_counts()"
      ],
      "execution_count": 17,
      "outputs": [
        {
          "output_type": "execute_result",
          "data": {
            "text/plain": [
              "Positive    18046\n",
              "Negative    15398\n",
              "Neutral      7713\n",
              "Name: Sentiment, dtype: int64"
            ]
          },
          "metadata": {},
          "execution_count": 17
        }
      ]
    },
    {
      "cell_type": "code",
      "metadata": {
        "id": "3JJhQqGu8LOh"
      },
      "source": [
        "df['Sentiment']=df['Sentiment'].replace({'Positive':1,'Neutral':0,'Negative':-1})"
      ],
      "execution_count": 18,
      "outputs": []
    },
    {
      "cell_type": "code",
      "metadata": {
        "colab": {
          "base_uri": "https://localhost:8080/",
          "height": 202
        },
        "id": "gdDMzdd88gxF",
        "outputId": "817a6493-27d4-4563-daa2-f10ec7e7ad4d"
      },
      "source": [
        "df.head()"
      ],
      "execution_count": 19,
      "outputs": [
        {
          "output_type": "execute_result",
          "data": {
            "text/html": [
              "<div>\n",
              "<style scoped>\n",
              "    .dataframe tbody tr th:only-of-type {\n",
              "        vertical-align: middle;\n",
              "    }\n",
              "\n",
              "    .dataframe tbody tr th {\n",
              "        vertical-align: top;\n",
              "    }\n",
              "\n",
              "    .dataframe thead th {\n",
              "        text-align: right;\n",
              "    }\n",
              "</style>\n",
              "<table border=\"1\" class=\"dataframe\">\n",
              "  <thead>\n",
              "    <tr style=\"text-align: right;\">\n",
              "      <th></th>\n",
              "      <th>UserName</th>\n",
              "      <th>ScreenName</th>\n",
              "      <th>Location</th>\n",
              "      <th>TweetAt</th>\n",
              "      <th>OriginalTweet</th>\n",
              "      <th>Sentiment</th>\n",
              "    </tr>\n",
              "  </thead>\n",
              "  <tbody>\n",
              "    <tr>\n",
              "      <th>0</th>\n",
              "      <td>3799</td>\n",
              "      <td>48751</td>\n",
              "      <td>London</td>\n",
              "      <td>16-03-2020</td>\n",
              "      <td>@MeNyrbie @Phil_Gahan @Chrisitv https://t.co/i...</td>\n",
              "      <td>0</td>\n",
              "    </tr>\n",
              "    <tr>\n",
              "      <th>1</th>\n",
              "      <td>3800</td>\n",
              "      <td>48752</td>\n",
              "      <td>UK</td>\n",
              "      <td>16-03-2020</td>\n",
              "      <td>advice Talk to your neighbours family to excha...</td>\n",
              "      <td>1</td>\n",
              "    </tr>\n",
              "    <tr>\n",
              "      <th>2</th>\n",
              "      <td>3801</td>\n",
              "      <td>48753</td>\n",
              "      <td>Vagabonds</td>\n",
              "      <td>16-03-2020</td>\n",
              "      <td>Coronavirus Australia: Woolworths to give elde...</td>\n",
              "      <td>1</td>\n",
              "    </tr>\n",
              "    <tr>\n",
              "      <th>3</th>\n",
              "      <td>3802</td>\n",
              "      <td>48754</td>\n",
              "      <td>London</td>\n",
              "      <td>16-03-2020</td>\n",
              "      <td>My food stock is not the only one which is emp...</td>\n",
              "      <td>1</td>\n",
              "    </tr>\n",
              "    <tr>\n",
              "      <th>4</th>\n",
              "      <td>3803</td>\n",
              "      <td>48755</td>\n",
              "      <td>London</td>\n",
              "      <td>16-03-2020</td>\n",
              "      <td>Me, ready to go at supermarket during the #COV...</td>\n",
              "      <td>-1</td>\n",
              "    </tr>\n",
              "  </tbody>\n",
              "</table>\n",
              "</div>"
            ],
            "text/plain": [
              "   UserName  ...  Sentiment\n",
              "0      3799  ...          0\n",
              "1      3800  ...          1\n",
              "2      3801  ...          1\n",
              "3      3802  ...          1\n",
              "4      3803  ...         -1\n",
              "\n",
              "[5 rows x 6 columns]"
            ]
          },
          "metadata": {},
          "execution_count": 19
        }
      ]
    },
    {
      "cell_type": "code",
      "metadata": {
        "colab": {
          "base_uri": "https://localhost:8080/"
        },
        "id": "6J2gv0n47_4X",
        "outputId": "d6da34f0-d122-4293-cb5c-4713bd4394a4"
      },
      "source": [
        "x=filtered_text\n",
        "y=df['Sentiment']\n",
        "print(len(x))\n",
        "print(y.shape)"
      ],
      "execution_count": 20,
      "outputs": [
        {
          "output_type": "stream",
          "name": "stdout",
          "text": [
            "41157\n",
            "(41157,)\n"
          ]
        }
      ]
    },
    {
      "cell_type": "code",
      "metadata": {
        "id": "76Kgxjl79Tgw"
      },
      "source": [
        "from sklearn.model_selection import train_test_split"
      ],
      "execution_count": 21,
      "outputs": []
    },
    {
      "cell_type": "code",
      "metadata": {
        "id": "80WLZNim7fPP"
      },
      "source": [
        "from sklearn.feature_extraction.text import CountVectorizer\n",
        "cv=CountVectorizer(max_features=5000)\n",
        "x_cv=cv.fit_transform(x)\n",
        "x_train,x_test,y_train,y_test=train_test_split(x_cv,y,test_size=.2)"
      ],
      "execution_count": 22,
      "outputs": []
    },
    {
      "cell_type": "code",
      "metadata": {
        "colab": {
          "base_uri": "https://localhost:8080/"
        },
        "id": "S6PXueDu9kCW",
        "outputId": "0ba4c559-2dc1-4937-cf39-c2a59777075c"
      },
      "source": [
        "print(x_train.shape)\n",
        "print(y_train.shape)\n",
        "print(x_test.shape)\n",
        "print(y_test.shape)"
      ],
      "execution_count": 23,
      "outputs": [
        {
          "output_type": "stream",
          "name": "stdout",
          "text": [
            "(32925, 5000)\n",
            "(32925,)\n",
            "(8232, 5000)\n",
            "(8232,)\n"
          ]
        }
      ]
    },
    {
      "cell_type": "code",
      "metadata": {
        "id": "vdBc136y9sIH"
      },
      "source": [
        "from sklearn.feature_extraction.text import TfidfVectorizer\n",
        "tfidf=TfidfVectorizer(max_features=5000)\n",
        "tfidf_cv=tfidf.fit_transform(x)\n",
        "a_train,a_test,b_train,b_test=train_test_split(tfidf_cv,y,test_size=.2)"
      ],
      "execution_count": 24,
      "outputs": []
    },
    {
      "cell_type": "code",
      "metadata": {
        "colab": {
          "base_uri": "https://localhost:8080/"
        },
        "id": "i490xXRC_2K6",
        "outputId": "b0152580-f497-4aad-d1dc-c0186ccdc8f3"
      },
      "source": [
        "print(a_train.shape)\n",
        "print(b_train.shape)\n",
        "print(a_test.shape)\n",
        "print(b_test.shape)"
      ],
      "execution_count": 25,
      "outputs": [
        {
          "output_type": "stream",
          "name": "stdout",
          "text": [
            "(32925, 5000)\n",
            "(32925,)\n",
            "(8232, 5000)\n",
            "(8232,)\n"
          ]
        }
      ]
    },
    {
      "cell_type": "markdown",
      "metadata": {
        "id": "7wmzJrn3AdFe"
      },
      "source": [
        "**MULTINOMIAL NB**"
      ]
    },
    {
      "cell_type": "code",
      "metadata": {
        "id": "8d-VdZc6AfuN"
      },
      "source": [
        "from sklearn.naive_bayes import MultinomialNB\n",
        "mnb=MultinomialNB()"
      ],
      "execution_count": 26,
      "outputs": []
    },
    {
      "cell_type": "code",
      "metadata": {
        "colab": {
          "base_uri": "https://localhost:8080/"
        },
        "id": "BJzO8ja4AyWB",
        "outputId": "60e4ee3d-8c15-4265-def7-b6e8ee24a4e1"
      },
      "source": [
        "mnb.fit(a_train,b_train)"
      ],
      "execution_count": 27,
      "outputs": [
        {
          "output_type": "execute_result",
          "data": {
            "text/plain": [
              "MultinomialNB(alpha=1.0, class_prior=None, fit_prior=True)"
            ]
          },
          "metadata": {},
          "execution_count": 27
        }
      ]
    },
    {
      "cell_type": "code",
      "metadata": {
        "colab": {
          "base_uri": "https://localhost:8080/"
        },
        "id": "jsB_qeksA5wB",
        "outputId": "9d2e5abf-312a-43ba-cf2e-72d0aafd9080"
      },
      "source": [
        "print(mnb.score(a_test,b_test))"
      ],
      "execution_count": 28,
      "outputs": [
        {
          "output_type": "stream",
          "name": "stdout",
          "text": [
            "0.685374149659864\n"
          ]
        }
      ]
    },
    {
      "cell_type": "code",
      "metadata": {
        "id": "dxaOiOU3BGVk"
      },
      "source": [
        "mnb_pred=mnb.predict(a_test)"
      ],
      "execution_count": 43,
      "outputs": []
    },
    {
      "cell_type": "code",
      "metadata": {
        "id": "9UekFUAbBXCE"
      },
      "source": [
        "from sklearn.metrics import classification_report,confusion_matrix"
      ],
      "execution_count": 44,
      "outputs": []
    },
    {
      "cell_type": "code",
      "metadata": {
        "colab": {
          "base_uri": "https://localhost:8080/"
        },
        "id": "LjcUILzBBd2G",
        "outputId": "524b5dd2-b7fd-4fbe-dcbb-b611c0db7e75"
      },
      "source": [
        "print(confusion_matrix(b_test,mnb_pred))\n",
        "print(classification_report(b_test,mnb_pred))"
      ],
      "execution_count": 45,
      "outputs": [
        {
          "output_type": "stream",
          "name": "stdout",
          "text": [
            "[[2402   39  669]\n",
            " [ 361  399  719]\n",
            " [ 431   42 3170]]\n",
            "              precision    recall  f1-score   support\n",
            "\n",
            "          -1       0.75      0.77      0.76      3110\n",
            "           0       0.83      0.27      0.41      1479\n",
            "           1       0.70      0.87      0.77      3643\n",
            "\n",
            "    accuracy                           0.73      8232\n",
            "   macro avg       0.76      0.64      0.65      8232\n",
            "weighted avg       0.74      0.73      0.70      8232\n",
            "\n"
          ]
        }
      ]
    },
    {
      "cell_type": "markdown",
      "metadata": {
        "id": "-FDJJIamMd5R"
      },
      "source": [
        "Fitting x_train,y_train"
      ]
    },
    {
      "cell_type": "code",
      "metadata": {
        "id": "v20IcZUxBmlv",
        "colab": {
          "base_uri": "https://localhost:8080/"
        },
        "outputId": "a0743719-470e-461b-edcb-0fd71db70582"
      },
      "source": [
        "mnb.fit(x_train,y_train)"
      ],
      "execution_count": 46,
      "outputs": [
        {
          "output_type": "execute_result",
          "data": {
            "text/plain": [
              "MultinomialNB(alpha=1.0, class_prior=None, fit_prior=True)"
            ]
          },
          "metadata": {},
          "execution_count": 46
        }
      ]
    },
    {
      "cell_type": "code",
      "metadata": {
        "colab": {
          "base_uri": "https://localhost:8080/"
        },
        "id": "_DY5MOp1Mld2",
        "outputId": "4ab02220-efc7-43dd-9cee-0ffd5e2c68cd"
      },
      "source": [
        "print(mnb.score(x_test,y_test))"
      ],
      "execution_count": 47,
      "outputs": [
        {
          "output_type": "stream",
          "name": "stdout",
          "text": [
            "0.6913265306122449\n"
          ]
        }
      ]
    },
    {
      "cell_type": "code",
      "metadata": {
        "id": "9MxPiaLJMo6U"
      },
      "source": [
        "mnb_pred_x=mnb.predict(x_test)"
      ],
      "execution_count": 48,
      "outputs": []
    },
    {
      "cell_type": "code",
      "metadata": {
        "colab": {
          "base_uri": "https://localhost:8080/"
        },
        "id": "cQds8IldMz96",
        "outputId": "5fd7a381-8f6a-4e97-9eb6-f650812b9a91"
      },
      "source": [
        "print(confusion_matrix(y_test,mnb_pred_x))\n",
        "print(classification_report(y_test,mnb_pred_x))"
      ],
      "execution_count": 49,
      "outputs": [
        {
          "output_type": "stream",
          "name": "stdout",
          "text": [
            "[[2255  307  613]\n",
            " [ 290  876  375]\n",
            " [ 582  374 2560]]\n",
            "              precision    recall  f1-score   support\n",
            "\n",
            "          -1       0.72      0.71      0.72      3175\n",
            "           0       0.56      0.57      0.57      1541\n",
            "           1       0.72      0.73      0.72      3516\n",
            "\n",
            "    accuracy                           0.69      8232\n",
            "   macro avg       0.67      0.67      0.67      8232\n",
            "weighted avg       0.69      0.69      0.69      8232\n",
            "\n"
          ]
        }
      ]
    },
    {
      "cell_type": "markdown",
      "metadata": {
        "id": "yWqVJ9fZNAwX"
      },
      "source": [
        "**SVM**"
      ]
    },
    {
      "cell_type": "code",
      "metadata": {
        "id": "CuW676wvM7Ag"
      },
      "source": [
        "from sklearn.svm import SVC"
      ],
      "execution_count": 50,
      "outputs": []
    },
    {
      "cell_type": "code",
      "metadata": {
        "colab": {
          "base_uri": "https://localhost:8080/"
        },
        "id": "3OuxaXouNLUO",
        "outputId": "8a0f71bd-798d-4c35-a4e3-639c1c5e1e99"
      },
      "source": [
        "svm=SVC(kernel='linear')\n",
        "svm.fit(a_train,b_train)"
      ],
      "execution_count": 51,
      "outputs": [
        {
          "output_type": "execute_result",
          "data": {
            "text/plain": [
              "SVC(C=1.0, break_ties=False, cache_size=200, class_weight=None, coef0=0.0,\n",
              "    decision_function_shape='ovr', degree=3, gamma='scale', kernel='linear',\n",
              "    max_iter=-1, probability=False, random_state=None, shrinking=True,\n",
              "    tol=0.001, verbose=False)"
            ]
          },
          "metadata": {},
          "execution_count": 51
        }
      ]
    },
    {
      "cell_type": "code",
      "metadata": {
        "colab": {
          "base_uri": "https://localhost:8080/"
        },
        "id": "JrqPeDNFNgFM",
        "outputId": "3cb2d2fb-fd3d-4bf4-e19f-ca4f939ee1a4"
      },
      "source": [
        "print(svm.score(a_train,b_train))\n",
        "print(svm.score(a_test,b_test))"
      ],
      "execution_count": 52,
      "outputs": [
        {
          "output_type": "stream",
          "name": "stdout",
          "text": [
            "0.8735307517084282\n",
            "0.8041788143828961\n"
          ]
        }
      ]
    },
    {
      "cell_type": "code",
      "metadata": {
        "id": "FbftyFlYNsYB"
      },
      "source": [
        "svm_pred=svm.predict(a_test)"
      ],
      "execution_count": 53,
      "outputs": []
    },
    {
      "cell_type": "code",
      "metadata": {
        "colab": {
          "base_uri": "https://localhost:8080/"
        },
        "id": "JxLViVYtNxpr",
        "outputId": "fdd521ce-fc2b-4bf1-a93b-75a634667753"
      },
      "source": [
        "print(confusion_matrix(b_test,svm_pred))\n",
        "print(classification_report(b_test,svm_pred))"
      ],
      "execution_count": 54,
      "outputs": [
        {
          "output_type": "stream",
          "name": "stdout",
          "text": [
            "[[2470  228  412]\n",
            " [ 220 1050  209]\n",
            " [ 349  194 3100]]\n",
            "              precision    recall  f1-score   support\n",
            "\n",
            "          -1       0.81      0.79      0.80      3110\n",
            "           0       0.71      0.71      0.71      1479\n",
            "           1       0.83      0.85      0.84      3643\n",
            "\n",
            "    accuracy                           0.80      8232\n",
            "   macro avg       0.79      0.79      0.79      8232\n",
            "weighted avg       0.80      0.80      0.80      8232\n",
            "\n"
          ]
        }
      ]
    },
    {
      "cell_type": "markdown",
      "metadata": {
        "id": "pb1O72_MN9K2"
      },
      "source": [
        " fiting x_train,y_train"
      ]
    },
    {
      "cell_type": "code",
      "metadata": {
        "colab": {
          "base_uri": "https://localhost:8080/"
        },
        "id": "ybw-ASb4N5wI",
        "outputId": "4bbeaa6a-9407-4720-98e2-9310657cc1b9"
      },
      "source": [
        "svm.fit(x_train,y_train)"
      ],
      "execution_count": 55,
      "outputs": [
        {
          "output_type": "execute_result",
          "data": {
            "text/plain": [
              "SVC(C=1.0, break_ties=False, cache_size=200, class_weight=None, coef0=0.0,\n",
              "    decision_function_shape='ovr', degree=3, gamma='scale', kernel='linear',\n",
              "    max_iter=-1, probability=False, random_state=None, shrinking=True,\n",
              "    tol=0.001, verbose=False)"
            ]
          },
          "metadata": {},
          "execution_count": 55
        }
      ]
    },
    {
      "cell_type": "code",
      "metadata": {
        "colab": {
          "base_uri": "https://localhost:8080/"
        },
        "id": "fQqjh4bSOVwb",
        "outputId": "0201d286-2a39-440e-f54f-d01f63cdccb9"
      },
      "source": [
        "print(svm.score(x_train,y_train))\n",
        "print(svm.score(x_test,y_test))"
      ],
      "execution_count": 56,
      "outputs": [
        {
          "output_type": "stream",
          "name": "stdout",
          "text": [
            "0.9201214882308276\n",
            "0.7917881438289601\n"
          ]
        }
      ]
    },
    {
      "cell_type": "code",
      "metadata": {
        "id": "8eVYgDejOZxF"
      },
      "source": [
        "svm_pred_x=svm.predict(x_test)"
      ],
      "execution_count": 57,
      "outputs": []
    },
    {
      "cell_type": "code",
      "metadata": {
        "colab": {
          "base_uri": "https://localhost:8080/"
        },
        "id": "MsUMwhgPOcOj",
        "outputId": "9e51b349-2c08-4ca7-a4d9-72d5168f019f"
      },
      "source": [
        "print(confusion_matrix(y_test,svm_pred_x))\n",
        "print(classification_report(y_test,svm_pred_x))"
      ],
      "execution_count": 58,
      "outputs": [
        {
          "output_type": "stream",
          "name": "stdout",
          "text": [
            "[[2564  238  373]\n",
            " [ 244 1068  229]\n",
            " [ 422  208 2886]]\n",
            "              precision    recall  f1-score   support\n",
            "\n",
            "          -1       0.79      0.81      0.80      3175\n",
            "           0       0.71      0.69      0.70      1541\n",
            "           1       0.83      0.82      0.82      3516\n",
            "\n",
            "    accuracy                           0.79      8232\n",
            "   macro avg       0.78      0.77      0.77      8232\n",
            "weighted avg       0.79      0.79      0.79      8232\n",
            "\n"
          ]
        }
      ]
    }
  ]
}